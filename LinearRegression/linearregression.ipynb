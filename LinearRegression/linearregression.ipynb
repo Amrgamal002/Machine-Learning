{
 "cells": [
  {
   "cell_type": "code",
   "execution_count": 285,
   "metadata": {},
   "outputs": [],
   "source": [
    "import numpy as np\n",
    "class LinearRegression:\n",
    "    def __init__(self):\n",
    "        self.weights=None\n",
    "\n",
    "    def fit(self,x,y):\n",
    "        self.n_sample,self.n_feature=x.shape\n",
    "        self.x,self.y=x,y\n",
    "        self.bias_term=np.ones((self.n_sample,1))\n",
    "        self.x=np.c_[self.bias_term,x]\n",
    "        self.update_weights()\n",
    "\n",
    "    def update_weights (self):\n",
    "        self.weights=np.linalg.inv(self.x.T.dot(self.x)).dot(self.x.T).dot(self.y)\n",
    "\n",
    "    def predict(self, X_new):\n",
    "        n_samples = X_new.shape[0]\n",
    "        bias_term = np.ones((n_samples, 1))\n",
    "        X_new = np.c_[bias_term, X_new]\n",
    "        prediction = X_new.dot(self.weights)\n",
    "        return prediction\n",
    "\n",
    "    def score(self,x,y):\n",
    "        y_pre=self.predict(x)\n",
    "        y_mean=np.mean(y)\n",
    "        SSE=np.sum((y-y_pre)**2)\n",
    "        SST=np.sum((y-y_mean)**2)\n",
    "        return 1-(SSE/SST)\n",
    "    \n",
    "\n",
    "class GradientDescentRegressor:\n",
    "\n",
    "    def __init__(self,l_rate=.01,iteration=1000,type='batch',batch_size=32,penalty='l1',alpha=.1,l1_ratio=.5,random_state= None):\n",
    "        self.l_rate=l_rate\n",
    "        self.iterations=iteration\n",
    "        self.type=type\n",
    "        self.batch_size=batch_size\n",
    "        self.penalty=penalty\n",
    "        self.alpha=alpha\n",
    "        self.l1_ratio=l1_ratio\n",
    "        self.weights=None\n",
    "        np.random.seed(random_state)\n",
    "        \n",
    "    \n",
    "    def fit(self, X, y):\n",
    "        n_samples, n_features = X.shape\n",
    "        self.weights = np.zeros(n_features + 1)\n",
    "        bias = np.ones(n_samples)\n",
    "        X = np.c_[bias, X]\n",
    "        for epoch in range(self.iterations):\n",
    "            if self.type == \"batch\":\n",
    "                gradient = self._compute_gradient(X, y)\n",
    "            elif self.type == \"mini batch\":\n",
    "                indices = np.random.choice(n_samples, self.batch_size, replace=False)\n",
    "                gradient = self._compute_gradient(X[indices], y[indices])\n",
    "            elif self.type == \"stochastic\":\n",
    "                index = np.random.choice(n_samples)\n",
    "                gradient = self._compute_gradient(X[[index]], y[[index]])\n",
    "            else:\n",
    "                raise TypeError(\"only batch, mini batch and stochastic are supported\")\n",
    "\n",
    "            self.weights -= self.l_rate * 1 / (2*n_samples) * gradient\n",
    "        self.y_mean = np.mean(y)\n",
    "\n",
    "    def _compute_gradient(self, X, y):\n",
    "        gradient = -2 * X.T.dot(y) + 2 * X.T.dot(X).dot(self.weights)\n",
    "        if self.penalty is not None:\n",
    "            if self.penalty ==\"l1\":\n",
    "                penalty = self.alpha * np.sign(self.weights)\n",
    "            elif self.penalty == \"l2\":\n",
    "                penalty = 2 * self.alpha * self.weights\n",
    "            elif self.penalty == \"elastic net\":\n",
    "                l1_penalty = self.l1_ratio * self.alpha * np.sign(self.weights)\n",
    "                l2_penalty = (1 - self.l1_ratio) * self.alpha * self.weights\n",
    "                penalty = self.alpha * (l1_penalty + l2_penalty)\n",
    "            else:\n",
    "                raise ValueError(\"penalty can be None, l1, l2 or elastic net\")\n",
    "            \n",
    "            gradient[1:] += penalty[1:]\n",
    "        return gradient  \n",
    "\n",
    "    def predict(self,x):\n",
    "        bias =np.ones(x.shape[0])\n",
    "        x=np.c_[bias,x]\n",
    "        return x.dot(self.weights)\n",
    "\n",
    "    def score (self,x,y):\n",
    "        y_pre=self.predict(x)\n",
    "        y_mean=np.mean(y)\n",
    "        SSE=np.sum((y-y_pre)**2)\n",
    "        SST=np.sum((y-y_mean)**2)\n",
    "        return 1-(SSE/SST)    \n",
    "\n"
   ]
  },
  {
   "cell_type": "code",
   "execution_count": 286,
   "metadata": {},
   "outputs": [],
   "source": [
    "import numpy as np\n",
    "import pandas as pd \n",
    "from sklearn.model_selection import train_test_split\n",
    "import sklearn.linear_model \n",
    "data=pd.read_csv(r'C:\\Users\\Amr\\Documents\\salary_data.csv')\n",
    "x = data.iloc[:,:-1].values\n",
    "y = data.iloc[:,1].values\n",
    "\n"
   ]
  },
  {
   "cell_type": "code",
   "execution_count": 287,
   "metadata": {},
   "outputs": [
    {
     "name": "stdout",
     "output_type": "stream",
     "text": [
      "[24309.09845498  9758.026682  ]\n",
      "[ 63341.20518298 126768.37861599 104324.91724739 112131.33859299\n",
      "  81881.45587878  62365.40251478  38946.13847798  64317.00785118\n",
      " 117010.35193399]\n",
      "0.9663109826791433\n"
     ]
    }
   ],
   "source": [
    "x_train,x_test,y_train,y_test=train_test_split(x,y,test_size=.3,random_state=5)\n",
    "model1=GradientDescentRegressor(random_state=5)\n",
    "model1.fit(x_train,y_train)\n",
    "print(model1.weights)\n",
    "test_pre=model1.predict(x_test)\n",
    "print(model1.predict(x_test))\n",
    "print(model1.score(x_test,y_test))\n",
    "\n"
   ]
  },
  {
   "cell_type": "code",
   "execution_count": 288,
   "metadata": {},
   "outputs": [
    {
     "name": "stdout",
     "output_type": "stream",
     "text": [
      "[10513.83138019] [19526.3896161]\n",
      "[ 61581.71513686 129921.61910809 105739.80693365 114150.87203781\n",
      "  81557.99475922  60530.33199884  35297.13668639  62633.09827488\n",
      " 119407.7877279 ]\n",
      "0.9640324102415616\n"
     ]
    }
   ],
   "source": [
    "mo=sklearn.linear_model.SGDRegressor(random_state=5)\n",
    "mo.fit(x_train,y_train)\n",
    "print(mo.coef_,mo.intercept_)\n",
    "print(mo.predict(x_test))\n",
    "print(mo.score(x_test,y_test))\n"
   ]
  },
  {
   "cell_type": "code",
   "execution_count": 289,
   "metadata": {},
   "outputs": [
    {
     "data": {
      "text/plain": [
       "array([ 64374.49262392, 124811.92649812, 103426.3729734 , 110864.82637331,\n",
       "        82040.81944869,  63444.68594893,  41129.32574923,  65304.29929891,\n",
       "       115513.85974824])"
      ]
     },
     "execution_count": 289,
     "metadata": {},
     "output_type": "execute_result"
    }
   ],
   "source": [
    "m=sklearn.linear_model.LinearRegression()\n",
    "m.fit(x_train,y_train)\n",
    "m.predict(x_test)"
   ]
  },
  {
   "cell_type": "code",
   "execution_count": 290,
   "metadata": {},
   "outputs": [
    {
     "data": {
      "text/plain": [
       "array([ 64374.49262392, 124811.92649812, 103426.3729734 , 110864.82637331,\n",
       "        82040.81944869,  63444.68594893,  41129.32574923,  65304.29929891,\n",
       "       115513.85974824])"
      ]
     },
     "execution_count": 290,
     "metadata": {},
     "output_type": "execute_result"
    }
   ],
   "source": [
    "moo=LinearRegression()\n",
    "moo.fit(x_train,y_train)\n",
    "moo.predict(x_test)"
   ]
  },
  {
   "cell_type": "code",
   "execution_count": 291,
   "metadata": {},
   "outputs": [
    {
     "data": {
      "image/png": "[encoded data removed]",
      "text/plain": [
       "<Figure size 640x480 with 1 Axes>"
      ]
     },
     "metadata": {},
     "output_type": "display_data"
    }
   ],
   "source": [
    "import matplotlib.pyplot as plt\n",
    "plt.scatter(x_test,y_test,c='r')\n",
    "plt.plot(x_test,test_pre,c='b')\n",
    "plt.show()"
   ]
  }
 ],
 "metadata": {
  "kernelspec": {
   "display_name": "base",
   "language": "python",
   "name": "python3"
  },
  "language_info": {
   "codemirror_mode": {
    "name": "ipython",
    "version": 3
   },
   "file_extension": ".py",
   "mimetype": "text/x-python",
   "name": "python",
   "nbconvert_exporter": "python",
   "pygments_lexer": "ipython3",
   "version": "3.11.7"
  }
 },
 "nbformat": 4,
 "nbformat_minor": 2
}
